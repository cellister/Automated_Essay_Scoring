{
  "nbformat": 4,
  "nbformat_minor": 0,
  "metadata": {
    "colab": {
      "provenance": []
    },
    "kernelspec": {
      "name": "python3",
      "display_name": "Python 3"
    },
    "language_info": {
      "name": "python"
    }
  },
  "cells": [
    {
      "cell_type": "code",
      "source": [
        "! pip install graphviz"
      ],
      "metadata": {
        "id": "-pOBrgKo71_d"
      },
      "execution_count": null,
      "outputs": []
    },
    {
      "cell_type": "code",
      "execution_count": null,
      "metadata": {
        "id": "nuvZFuqZ7sH8"
      },
      "outputs": [],
      "source": [
        "from graphviz import Digraph\n",
        "\n",
        "# Create a new directed graph with ortho splines\n",
        "dot = Digraph(comment='Raw Data to Final System Recommendation', graph_attr={'splines': 'ortho'})\n",
        "\n",
        "# Set the shape attribute to 'box' for all nodes\n",
        "node_attrs = {'shape': 'box'}\n",
        "\n",
        "# Data Preparation block\n",
        "dot.node('A', 'Data Management', style='filled', fillcolor='#fde725', fontname='bold', **node_attrs)\n",
        "#dot.node('B', 'Clean Data', **node_attrs)\n",
        "dot.node('C', 'Data Analysis', **node_attrs)\n",
        "\n",
        "# Model Creation block\n",
        "dot.node('D', 'Model Creation', style='filled', fillcolor='#fde725', fontname='bold', **node_attrs)\n",
        "dot.node('E', 'Basic Method', **node_attrs)\n",
        "dot.node('F', 'Grouping Method', **node_attrs)\n",
        "dot.node('G', 'Advanced Method', **node_attrs)\n",
        "\n",
        "# Evaluation block\n",
        "dot.node('H', 'Evaluation', style='filled', fillcolor='#fde725', fontname='bold', **node_attrs)\n",
        "#dot.node('I', 'Check Accuracy', **node_attrs)\n",
        "dot.node('J', 'Compare Models', **node_attrs)\n",
        "\n",
        "# Final System Selection block\n",
        "dot.node('K', 'Recommend Best Model', **node_attrs)\n",
        "\n",
        "# Create edges\n",
        "#dot.edge('A', 'B', tailport='s', headport='n')\n",
        "dot.edge('A', 'C', tailport='s', headport='n')\n",
        "dot.edge('C', 'D', tailport='s', headport='n')\n",
        "#dot.edge('D', 'E', tailport='w', headport='n')\n",
        "dot.edge('D', 'F', tailport='s', headport='n')\n",
        "#dot.edge('D', 'G', tailport='e', headport='n')\n",
        "dot.edge('E', 'H', tailport='s', headport='w')\n",
        "dot.edge('F', 'H', tailport='s', headport='n')\n",
        "dot.edge('G', 'H', tailport='s', headport='e')\n",
        "#dot.edge('H', 'I', tailport='s', headport='n')\n",
        "dot.edge('H', 'J', tailport='s', headport='n')\n",
        "dot.edge('J', 'K', tailport='s', headport='n')\n",
        "\n",
        "# Render the graph to a file and display it\n",
        "dot.render('simple_flowchart', format='png', view=True)"
      ]
    },
    {
      "cell_type": "code",
      "source": [
        "from graphviz import Digraph, Source\n",
        "\n",
        "# Create a new directed graph with ortho splines\n",
        "dot = Digraph(comment='Raw Data to Final Model Recommendation', graph_attr={'splines': 'ortho'})\n",
        "\n",
        "# Set the shape attribute to 'box' for all nodes\n",
        "node_attrs = {'shape': 'box'}\n",
        "\n",
        "# Data Management block\n",
        "dot.node('A', 'Raw Data', style='filled', fillcolor='#fde725', fontname='bold', **node_attrs)\n",
        "dot.node('B', 'Data Management', **node_attrs)\n",
        "dot.node('C', 'Data Analysis', **node_attrs)\n",
        "\n",
        "# Model Building block\n",
        "dot.node('D', 'Model Building', style='filled', fillcolor='#fde725', fontname='bold', **node_attrs)\n",
        "dot.node('E', 'TF-IDF + NN', **node_attrs)\n",
        "dot.node('F', 'TF-IDF + KMC', **node_attrs)\n",
        "dot.node('G', 'BERT + NN', **node_attrs)\n",
        "\n",
        "# Evaluation block\n",
        "dot.node('H', 'Evaluation', style='filled', fillcolor='#fde725', fontname='bold', **node_attrs)\n",
        "dot.node('I', 'Model Accuracy', **node_attrs)\n",
        "dot.node('J', 'Comparison', **node_attrs)\n",
        "\n",
        "# Final Model Selection block\n",
        "dot.node('K', 'Final Model Recommendation', **node_attrs)\n",
        "\n",
        "# Create edges\n",
        "dot.edge('A', 'B', tailport='s', headport='n')\n",
        "dot.edge('B', 'C', tailport='s', headport='n')\n",
        "dot.edge('C', 'D', tailport='s', headport='n')\n",
        "#dot.edge('D', 'E', tailport='w', headport='n')\n",
        "dot.edge('D', 'F', tailport='s', headport='n')\n",
        "#dot.edge('D', 'G', tailport='e', headport='n')\n",
        "dot.edge('E', 'H', tailport='s', headport='w')\n",
        "dot.edge('F', 'H', tailport='s', headport='n')\n",
        "dot.edge('G', 'H', tailport='s', headport='e')\n",
        "dot.edge('H', 'I', tailport='s', headport='n')\n",
        "dot.edge('I', 'J', tailport='s', headport='n')\n",
        "dot.edge('J', 'K', tailport='s', headport='n')\n",
        "\n",
        "# Render the graph to a file and display it\n",
        "dot.render('flowchart', format='png', view=True)"
      ],
      "metadata": {
        "id": "sxzslrPC71or"
      },
      "execution_count": null,
      "outputs": []
    }
  ]
}